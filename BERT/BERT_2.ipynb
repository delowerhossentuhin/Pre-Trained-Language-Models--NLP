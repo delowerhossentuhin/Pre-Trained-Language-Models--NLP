{
 "cells": [
  {
   "cell_type": "code",
   "execution_count": null,
   "metadata": {
    "id": "y-Qp7djKmsEf"
   },
   "outputs": [],
   "source": [
    "!pip install transformers pandas numpy scikit-learn tensorflow -q"
   ]
  },
  {
   "cell_type": "code",
   "execution_count": null,
   "metadata": {
    "colab": {
     "base_uri": "https://localhost:8080/"
    },
    "id": "5up2bFjqm3C3",
    "outputId": "3d4c687c-9158-4387-c860-f1dd5c2e1bc1"
   },
   "outputs": [],
   "source": [
    "from google.colab import drive\n",
    "from google.colab import files\n",
    "drive.mount('/content/drive')"
   ]
  },
  {
   "cell_type": "code",
   "execution_count": null,
   "metadata": {
    "id": "TVJuGcWtokGK"
   },
   "outputs": [],
   "source": [
    "import pandas as pd\n",
    "import numpy as np\n",
    "import tensorflow as tf\n",
    "from sklearn.model_selection import train_test_split\n",
    "from sklearn.metrics import accuracy_score, f1_score, classification_report\n",
    "from transformers import BertTokenizer, TFBertForSequenceClassification\n",
    "import os"
   ]
  },
  {
   "cell_type": "code",
   "execution_count": null,
   "metadata": {
    "id": "W4iyzl9Ooyy4"
   },
   "outputs": [],
   "source": [
    "tf.random.set_seed(42)\n",
    "np.random.seed(42)"
   ]
  },
  {
   "cell_type": "code",
   "execution_count": null,
   "metadata": {
    "id": "h8Xi_z2mpgDQ"
   },
   "outputs": [],
   "source": [
    "def load_and_validate_data(file_path=\"/content/drive/My Drive/Project and Coding/BERT AND ELECTRA/Apple_tweets_setiment.csv\"):\n",
    "    try:\n",
    "        df = pd.read_csv(file_path, on_bad_lines='skip', quoting=3)\n",
    "        if 'tweets' not in df.columns or 'labels' not in df.columns:\n",
    "            raise ValueError(\"Dataset must contain 'tweets' and 'labels' columns\")\n",
    "        df = df.dropna(subset=['tweets', 'labels'])\n",
    "\n",
    "        # Filter out neutral (0.0) labels. We only do for binary sentiment\n",
    "        df = df[df['labels'] != 0.0]\n",
    "\n",
    "        df['labels'] = df['labels'].apply(lambda x: 0 if x == -1.0 else 1)\n",
    "\n",
    "        print(\"Dataset Info:\")\n",
    "        print(df.info())\n",
    "        print(\"\\nSample Data:\")\n",
    "        print(df.head())\n",
    "        print(\"\\nLabel Distribution:\")\n",
    "        print(df['labels'].value_counts())\n",
    "\n",
    "        return df\n",
    "\n",
    "    except FileNotFoundError:\n",
    "        print(\"Error: Dataset file not found.\")\n",
    "        return None\n"
   ]
  },
  {
   "cell_type": "code",
   "execution_count": null,
   "metadata": {
    "colab": {
     "base_uri": "https://localhost:8080/"
    },
    "id": "O0zWuzSXph5z",
    "outputId": "1784d407-857c-4799-d77b-92a6497143d3"
   },
   "outputs": [],
   "source": [
    "df=load_and_validate_data()\n",
    "if df is None:\n",
    "  raise SystemExit(\"Failed to load dataset. Exiting.\")"
   ]
  },
  {
   "cell_type": "code",
   "execution_count": null,
   "metadata": {
    "id": "rovgvM2qpj5o"
   },
   "outputs": [],
   "source": [
    "train_texts, test_texts, train_labels, test_labels = train_test_split(\n",
    "    df['tweets'],\n",
    "    df['labels'],\n",
    "    test_size=0.2,\n",
    "    random_state=42,\n",
    "    stratify=df['labels']\n",
    ")\n"
   ]
  },
  {
   "cell_type": "code",
   "execution_count": null,
   "metadata": {
    "colab": {
     "base_uri": "https://localhost:8080/",
     "height": 269,
     "referenced_widgets": [
      "277da91dd65d451485c64146092f080a",
      "5f3ba67ef169445a815c6f56d7a8ee92",
      "67b284c2985141979aad96e76b2e772d",
      "f9fc7f5f1fa54e06a5c801f88f6db5a0",
      "ae78e985cd3e4ae7a31bc875cc0bc090",
      "66e28f873c28410eaff00acbd29479c4",
      "33419458480249289a9bf334b30ac7c8",
      "3a426ce2db7c4f4e8200ed1fb8ea8382",
      "522f8fa9517144d6aae9e96e98c70cb8",
      "fb5389ca96e846939e57a566e8d07c55",
      "495e22311d9d4e3cba7fd1dfed8374f5",
      "435f4300eda847bab68d0573f3b6be2e",
      "353fe48f97d64dbfac77b2c943104a81",
      "eb36aa450c644f218993b31544adc00e",
      "ef52851a6e704f1a839097fad42c7a8d",
      "3348d8929ebf4c99b0d4484ca98fa7a5",
      "06fbf5207b6d407a97ec18354b7d12de",
      "78ea3fb2d35c49da91da172422ec409d",
      "d76e008238c74d5fbc7ce9bffed996f0",
      "6ec50eb58daf4598a323d18651a68e70",
      "2a895cd45edd40d8a545348d3546c37c",
      "8cdb2cefaae64032b73e273bde86564a",
      "45b7bb6e54094589803a276b52ef149d",
      "c45a70c5be72403aa896c29955ce6494",
      "36518d993c9d46a5a89cf6b52d0ddbdb",
      "83b6d73494fb4a6088d4f0400ddb5a83",
      "2e25a4e792bb41ffa77e6a552757d694",
      "127c58d25a674837b57fe8b281d47aeb",
      "10fe9cba973f4a62852b4edd593bd23e",
      "148c0cd7210c4834bee4b96dc78c4a75",
      "41433216b5b6419692153061d65e79a4",
      "112a50278fe946c0af74d36aa0560e63",
      "b6564adfccce46d6b8adbd2e613d32b8",
      "b6ab1bfdcc6f43c7ab0069e4525d9b3c",
      "30d06e4ffb644f8e8767799997f79808",
      "a61d5e5bd9f24a96962b32c7586454a2",
      "d21048dedad24cd3a6c0a935e9272e73",
      "bec429ce5d944559a54d6cb50ce04009",
      "5e13e451786d4324a83c9c295a31c9a1",
      "6b31b229ccca4f15a5547d6c40695d01",
      "cf1729e8829a44cf80612310749b75bd",
      "58f8756eedb4410aa7f7cb8697977b52",
      "7028881ca6854e239feb56135df2541f",
      "fb47bffe9b7a4b4bbefca6f1493a21fa"
     ]
    },
    "id": "nMlHE1OKpyBk",
    "outputId": "4f2f9393-3dc5-4822-d017-b470254b6ce8"
   },
   "outputs": [],
   "source": [
    "tokenizer = BertTokenizer.from_pretrained('bert-base-uncased')"
   ]
  },
  {
   "cell_type": "code",
   "execution_count": null,
   "metadata": {
    "id": "tqjNYOA1p2i0"
   },
   "outputs": [],
   "source": [
    "# Tokenize data\n",
    "def tokenize_data(texts, max_length=128):\n",
    "    return tokenizer(\n",
    "        list(texts),\n",
    "        truncation=True,\n",
    "        padding=True,\n",
    "        max_length=max_length,\n",
    "        return_tensors='tf'\n",
    "    )\n",
    "\n",
    "train_encodings = tokenize_data(train_texts)\n",
    "test_encodings = tokenize_data(test_texts)"
   ]
  },
  {
   "cell_type": "code",
   "execution_count": null,
   "metadata": {
    "id": "DsGFtIO6qg7N"
   },
   "outputs": [],
   "source": [
    "def create_dataset(encodings, labels):\n",
    "    dataset = tf.data.Dataset.from_tensor_slices((\n",
    "        {\n",
    "            'input_ids': encodings['input_ids'],\n",
    "            'attention_mask': encodings['attention_mask'],\n",
    "            'token_type_ids': encodings['token_type_ids']\n",
    "        },\n",
    "        labels\n",
    "    ))\n",
    "    return dataset\n",
    "\n",
    "train_dataset = create_dataset(train_encodings, tf.convert_to_tensor(list(train_labels)))\n",
    "test_dataset = create_dataset(test_encodings, tf.convert_to_tensor(list(test_labels)))"
   ]
  },
  {
   "cell_type": "code",
   "execution_count": null,
   "metadata": {
    "colab": {
     "base_uri": "https://localhost:8080/",
     "height": 138,
     "referenced_widgets": [
      "a536c136784840328ff4d0364a159bf4",
      "c9b996a34d304393b6b7e7b0fc23b29c",
      "014dcbff34f643a4b71d46b87f5418f6",
      "dd61bdc2e2fb436e9badbf0a8511d125",
      "78b312d4c07849b1ba1900d23d0b567f",
      "983b5abdbd2d42b697fa434d338ff6bb",
      "b17f7d7d869c4260a11a630e9e5d737d",
      "1c057a3de17b4633bbdf124a008d603f",
      "1bf4e03b438740e3b99a9594a58727d1",
      "64be8199fe744e46b0222df6bf335ba0",
      "e91cab4eb39e40bf92e9213e1fbef04d"
     ]
    },
    "id": "q0Uxaknuqkx1",
    "outputId": "684910cd-b156-4127-c5e5-924256f31493"
   },
   "outputs": [],
   "source": [
    "model = TFBertForSequenceClassification.from_pretrained('bert-base-uncased',num_labels=2)"
   ]
  },
  {
   "cell_type": "code",
   "execution_count": null,
   "metadata": {
    "id": "r6ztvdELqn5V"
   },
   "outputs": [],
   "source": [
    "optimizer = tf.keras.optimizers.Adam(learning_rate=2e-5, epsilon=1e-8)\n",
    "loss = tf.keras.losses.SparseCategoricalCrossentropy(from_logits=True)\n",
    "metrics = [\n",
    "    tf.keras.metrics.SparseCategoricalAccuracy('accuracy'),\n",
    "    tf.keras.metrics.SparseTopKCategoricalAccuracy(k=1, name='top_1_accuracy')\n",
    "]\n",
    "\n",
    "model.compile(optimizer=optimizer, loss=loss, metrics=metrics)"
   ]
  },
  {
   "cell_type": "code",
   "execution_count": null,
   "metadata": {
    "id": "ZlD_HYwcqu_Y"
   },
   "outputs": [],
   "source": [
    "callbacks = [\n",
    "    tf.keras.callbacks.EarlyStopping(\n",
    "        monitor='val_loss',\n",
    "        patience=1,\n",
    "        restore_best_weights=True\n",
    "    ),\n",
    "    tf.keras.callbacks.ModelCheckpoint(\n",
    "        '/content/drive/MyDrive/Project and Coding/BERT AND ELECTRA/best_bert_model_2',\n",
    "        monitor='val_accuracy',\n",
    "        save_best_only=True,\n",
    "        mode='max'\n",
    "    )\n",
    "]"
   ]
  },
  {
   "cell_type": "code",
   "execution_count": null,
   "metadata": {
    "colab": {
     "base_uri": "https://localhost:8080/"
    },
    "id": "AGVBvl_bqw_n",
    "outputId": "3fccfcef-2c9c-4c12-8d83-b6357a3c5e87"
   },
   "outputs": [],
   "source": [
    "print(\"\\nTraining BERT model...\")\n",
    "history = model.fit(\n",
    "    train_dataset.shuffle(1000).batch(16),\n",
    "    epochs=3,\n",
    "    batch_size=16,\n",
    "    validation_data=test_dataset.batch(16),\n",
    "    callbacks=callbacks\n",
    ")"
   ]
  },
  {
   "cell_type": "code",
   "execution_count": null,
   "metadata": {
    "colab": {
     "base_uri": "https://localhost:8080/"
    },
    "id": "_BN8vz6xq967",
    "outputId": "6abec177-93ce-4612-8d26-159337f2ae73"
   },
   "outputs": [],
   "source": [
    "print(\"\\nEvaluating model...\")\n",
    "predictions = model.predict(test_dataset.batch(16))\n",
    "pred_labels = np.argmax(predictions.logits, axis=1)"
   ]
  },
  {
   "cell_type": "code",
   "execution_count": null,
   "metadata": {
    "colab": {
     "base_uri": "https://localhost:8080/"
    },
    "id": "vfB1fxruq-wN",
    "outputId": "8393fbb9-fb19-4e5e-b440-747bdd99a98e"
   },
   "outputs": [],
   "source": [
    "print(\"\\nClassification Report:\")\n",
    "print(classification_report(test_labels, pred_labels, target_names=['Negative', 'Positive']))\n",
    "print(\"Accuracy:\", accuracy_score(test_labels, pred_labels))\n",
    "print(\"F1 Score:\", f1_score(test_labels, pred_labels))"
   ]
  },
  {
   "cell_type": "code",
   "execution_count": null,
   "metadata": {
    "colab": {
     "base_uri": "https://localhost:8080/"
    },
    "id": "PQZkqG9dq-j6",
    "outputId": "55507c08-0afd-4809-ee5f-14115a20188e"
   },
   "outputs": [],
   "source": [
    "save_path = \"/content/drive/MyDrive/Project and Coding/BERT AND ELECTRA/bert_sentiment_model_2\"\n",
    "model.save_pretrained(save_path)\n",
    "tokenizer.save_pretrained(save_path)\n",
    "print(f\"\\nModel saved to {save_path}\")"
   ]
  },
  {
   "cell_type": "code",
   "execution_count": null,
   "metadata": {
    "id": "-C9M6NTarGrK"
   },
   "outputs": [],
   "source": [
    "# Prediction function\n",
    "def predict_sentiment(text):\n",
    "    try:\n",
    "        inputs = tokenizer(\n",
    "            text,\n",
    "            return_tensors=\"tf\",\n",
    "            truncation=True,\n",
    "            padding=True,\n",
    "            max_length=128\n",
    "        )\n",
    "        outputs = model(inputs)\n",
    "        probs = tf.nn.softmax(outputs.logits, axis=-1)\n",
    "        pred = np.argmax(probs, axis=1)[0]\n",
    "        confidence = probs[0][pred].numpy()\n",
    "        return (\"Positive\" if pred == 1 else \"Negative\", confidence)\n",
    "    except Exception as e:\n",
    "        print(f\"Error in prediction: {str(e)}\")\n",
    "        return None, None"
   ]
  },
  {
   "cell_type": "code",
   "execution_count": null,
   "metadata": {
    "colab": {
     "base_uri": "https://localhost:8080/"
    },
    "id": "oOqb82PgrHpU",
    "outputId": "aa51842b-6581-4382-b209-511a3a39bacb"
   },
   "outputs": [],
   "source": [
    "sample_texts = [\n",
    "    \"Absolutely love the new iPhone! Apple nailed it again.\",\n",
    "    \"Apple stock is dropping after the disappointing earnings report.\",\n",
    "    \"Thinking of switching to Android, tired of Apple's constant price hikes.\",\n",
    "    \"The new iOS update is so smooth and fast. Great job Apple!\",\n",
    "    \"Apple's customer service was incredibly helpful today.\",\n",
    "    \"My MacBook just crashed again, so frustrating!\",\n",
    "    \"Apple Pay makes checkout so much easier. Love this feature!\",\n",
    "    \"Battery life on my iPhone is terrible after the latest update.\",\n",
    "    \"AirPods Pro sound amazing! Totally worth the price.\",\n",
    "    \"Apple Watch saved my life by detecting my irregular heartbeat.\"\n",
    "]\n",
    "\n",
    "print(\"\\nExample Predictions:\")\n",
    "for text in sample_texts:\n",
    "    sentiment, confidence = predict_sentiment(text)\n",
    "    print(f\"Text: {text}\")\n",
    "    if sentiment is not None and confidence is not None:\n",
    "        print(f\"Sentiment: {sentiment}, Confidence: {confidence:.4f}\\n\")\n",
    "    else:\n",
    "        print(f\"Error predicting sentiment for text: {text}\\n\")"
   ]
  },
  {
   "cell_type": "code",
   "execution_count": null,
   "metadata": {
    "id": "koSmL3VKuMaO"
   },
   "outputs": [],
   "source": []
  }
 ],
 "metadata": {
  "accelerator": "GPU",
  "colab": {
   "gpuType": "T4",
   "provenance": []
  },
  "kernelspec": {
   "display_name": "Python 3",
   "name": "python3"
  },
  "language_info": {
   "name": "python"
  }
 },
 "nbformat": 4,
 "nbformat_minor": 0
}
